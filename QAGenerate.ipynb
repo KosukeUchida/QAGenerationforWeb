{
 "cells": [
  {
   "cell_type": "code",
   "execution_count": 1,
   "metadata": {},
   "outputs": [],
   "source": [
    "import logging\n",
    "import sys\n",
    "import pandas as pd\n",
    "\n",
    "logging.basicConfig(stream=sys.stdout, level=logging.INFO)\n",
    "logging.getLogger().addHandler(logging.StreamHandler(stream=sys.stdout))"
   ]
  },
  {
   "cell_type": "code",
   "execution_count": 2,
   "metadata": {},
   "outputs": [],
   "source": [
    "from llama_index.core.evaluation import DatasetGenerator, RelevancyEvaluator\n",
    "from llama_index.core import SimpleDirectoryReader, VectorStoreIndex, Response\n",
    "from llama_index.llms.openai import OpenAI"
   ]
  },
  {
   "cell_type": "code",
   "execution_count": 8,
   "metadata": {},
   "outputs": [
    {
     "name": "stdout",
     "output_type": "stream",
     "text": [
      "--2024-03-26 06:51:48--  https://www.aozora.gr.jp/cards/000035/files/1567_14913.html\n",
      "Resolving www.aozora.gr.jp (www.aozora.gr.jp)... 59.106.13.115\n",
      "Connecting to www.aozora.gr.jp (www.aozora.gr.jp)|59.106.13.115|:443... connected.\n",
      "HTTP request sent, awaiting response... 200 OK\n",
      "Length: 27570 (27K) [text/html]\n",
      "Saving to: ‘/workspace/data/aozora/hasire_meros.txt’\n",
      "\n",
      "/workspace/data/aoz 100%[===================>]  26.92K  --.-KB/s    in 0.04s   \n",
      "\n",
      "2024-03-26 06:51:48 (647 KB/s) - ‘/workspace/data/aozora/hasire_meros.txt’ saved [27570/27570]\n",
      "\n"
     ]
    }
   ],
   "source": [
    "!mkdir -p '/workspace/data/aozora/'\n",
    "!wget 'https://www.aozora.gr.jp/cards/000035/files/1567_14913.html' -O '/workspace/data/aozora/hasire_meros.txt'"
   ]
  }
 ],
 "metadata": {
  "kernelspec": {
   "display_name": "Python 3",
   "language": "python",
   "name": "python3"
  },
  "language_info": {
   "codemirror_mode": {
    "name": "ipython",
    "version": 3
   },
   "file_extension": ".py",
   "mimetype": "text/x-python",
   "name": "python",
   "nbconvert_exporter": "python",
   "pygments_lexer": "ipython3",
   "version": "3.10.14"
  }
 },
 "nbformat": 4,
 "nbformat_minor": 2
}
